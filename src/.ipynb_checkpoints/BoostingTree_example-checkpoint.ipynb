{
 "cells": [
  {
   "cell_type": "code",
   "execution_count": 12,
   "metadata": {},
   "outputs": [],
   "source": [
    "import numpy as np\n",
    "from tqdm import tqdm\n",
    "from DecisionTrees import *\n",
    "\n",
    "\n",
    "class RegressionBoostingTree(object):\n",
    "    def __init__(self, max_depth=float(\"inf\"), min_samples_split=2, max_estimators=float(\"inf\"), \n",
    "                tol=1e-9):\n",
    "        self.max_depth=max_depth\n",
    "        self.min_samples_split=min_samples_split\n",
    "        self.max_estimators=max_estimators\n",
    "        self.tol = tol\n",
    "        self.trees = []\n",
    "    \n",
    "    def fit(self, X, y):\n",
    "        if len(X.shape)==1:\n",
    "            X = np.expand_dims(X, axis=1)\n",
    "        m,n = X.shape\n",
    "        tree_i = 1\n",
    "        tol = float(\"inf\")\n",
    "        while tol>self.tol and tree_i<=self.max_estimators:\n",
    "            tree = RegressionTree(max_depth=self.max_depth, \n",
    "                                  min_samples_split=self.min_samples_split)\n",
    "            tree.fit(X,y)\n",
    "            y_pred=tree.predict(X)\n",
    "            rm = y-y_pred\n",
    "            tol = rm.dot(rm)\n",
    "            y = rm\n",
    "            tree_i += 1\n",
    "            self.trees.append(tree)\n",
    "        print(\"square loss is %f, trees number is %d\" % (tol, tree_i))          \n",
    "            \n",
    "    \n",
    "    def predict(self, X):\n",
    "        if len(X.shape)==1:\n",
    "            X = np.expand_dims(X, axis=1)\n",
    "        y = np.zeros(X.shape[0])\n",
    "        for tree in self.trees:\n",
    "            y += np.array(tree.predict(X))\n",
    "        return y"
   ]
  },
  {
   "cell_type": "code",
   "execution_count": 13,
   "metadata": {},
   "outputs": [
    {
     "data": {
      "image/png": "[encoded data removed]",
      "text/plain": [
       "<matplotlib.figure.Figure at 0x7fa3bb21fb38>"
      ]
     },
     "metadata": {},
     "output_type": "display_data"
    }
   ],
   "source": [
    "import matplotlib.pyplot as plt\n",
    "x = np.arange(10)+1\n",
    "x = x.reshape([-1,1])\n",
    "y = np.array([5.56,5.7,5.91,6.4,6.8,7.05,8.9,8.7,9,9.05])\n",
    "\n",
    "clf = RegressionTree(max_depth=5, )\n",
    "clf.fit(x,y)\n",
    "\n",
    "X = np.linspace(0,11,50).reshape([-1,1])\n",
    "y_pred = clf.predict(X)\n",
    "\n",
    "plt.figure()\n",
    "plt.plot(X.squeeze(), y_pred, '-')\n",
    "plt.scatter(x,y)\n",
    "plt.show()"
   ]
  },
  {
   "cell_type": "code",
   "execution_count": 14,
   "metadata": {},
   "outputs": [
    {
     "name": "stdout",
     "output_type": "stream",
     "text": [
      "0.172178064986\n"
     ]
    },
    {
     "data": {
      "image/png": "[encoded data removed]",
      "text/plain": [
       "<matplotlib.figure.Figure at 0x7fa3bb215b00>"
      ]
     },
     "metadata": {},
     "output_type": "display_data"
    }
   ],
   "source": [
    "clf = RegressionBoostingTree(max_depth=1, max_estimators=6)\n",
    "clf.fit(x,y)\n",
    "\n",
    "X = np.linspace(0,11,50).reshape([-1,1])\n",
    "y_pred = clf.predict(X)\n",
    "\n",
    "plt.figure()\n",
    "plt.plot(X.squeeze(), y_pred, '-')\n",
    "plt.scatter(x,y)\n",
    "plt.show()"
   ]
  },
  {
   "cell_type": "code",
   "execution_count": 7,
   "metadata": {},
   "outputs": [
    {
     "data": {
      "text/plain": [
       "[<DecisionTrees.RegressionTree at 0x7fa3bb463dd8>,\n",
       " <DecisionTrees.RegressionTree at 0x7fa3bb449358>]"
      ]
     },
     "execution_count": 7,
     "metadata": {},
     "output_type": "execute_result"
    }
   ],
   "source": [
    "clf.trees"
   ]
  },
  {
   "cell_type": "code",
   "execution_count": null,
   "metadata": {},
   "outputs": [],
   "source": []
  }
 ],
 "metadata": {
  "kernelspec": {
   "display_name": "Python 3",
   "language": "python",
   "name": "python3"
  },
  "language_info": {
   "codemirror_mode": {
    "name": "ipython",
    "version": 3
   },
   "file_extension": ".py",
   "mimetype": "text/x-python",
   "name": "python",
   "nbconvert_exporter": "python",
   "pygments_lexer": "ipython3",
   "version": "3.6.4"
  }
 },
 "nbformat": 4,
 "nbformat_minor": 2
}
